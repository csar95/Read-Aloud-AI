{
 "cells": [
  {
   "cell_type": "markdown",
   "id": "0",
   "metadata": {},
   "source": [
    "# Testing basic usage of Gradio\n",
    "\n",
    "**Description**: This notebook serves as a playground for testing the basic usage of Gradio. Checking how a first version of the app would look like, and how to use different components."
   ]
  },
  {
   "cell_type": "code",
   "execution_count": null,
   "id": "1",
   "metadata": {},
   "outputs": [],
   "source": [
    "import gradio as gr"
   ]
  },
  {
   "cell_type": "code",
   "execution_count": null,
   "id": "2",
   "metadata": {},
   "outputs": [],
   "source": [
    "def generate_podcast_from_file(\n",
    "    file, voice, speed, duration_of_pauses, gemini_api_key, gemini_model_id\n",
    "):\n",
    "    raise gr.Error(\n",
    "        message=\"Gemini API client is not available. Please check your API key and model ID.\",\n",
    "        duration=2,\n",
    "    )"
   ]
  },
  {
   "cell_type": "code",
   "execution_count": null,
   "id": "3",
   "metadata": {},
   "outputs": [],
   "source": [
    "demo = gr.Interface(\n",
    "    fn=generate_podcast_from_file,\n",
    "    inputs=[\n",
    "        gr.File(file_count=\"single\", label=\"Upload a file\", file_types=[\".pdf\"]),\n",
    "        gr.Dropdown(\n",
    "            choices=[\"am_liam\", \"am_puck\"],\n",
    "            value=\"am_liam\",\n",
    "            label=\"Voice\",\n",
    "            filterable=True,\n",
    "            multiselect=False,\n",
    "            allow_custom_value=False,\n",
    "        ),\n",
    "        gr.Slider(\n",
    "            minimum=0.25,\n",
    "            maximum=2,\n",
    "            step=0.25,\n",
    "            value=1,\n",
    "            label=\"Speed of speech\",\n",
    "        ),\n",
    "        gr.Slider(\n",
    "            minimum=0,\n",
    "            maximum=1,\n",
    "            step=0.1,\n",
    "            value=0.3,\n",
    "            label=\"Duration of pauses in the speech (seconds)\",\n",
    "        ),\n",
    "        gr.Textbox(label=\"Gemini API Key\", type=\"text\", lines=1, max_lines=None),\n",
    "        gr.Dropdown(\n",
    "            choices=[\"gemini-2.5-flash-preview-04-17\", \"gemini-2.5-pro-exp-03-25\"],\n",
    "            value=\"gemini-2.5-flash-preview-04-17\",\n",
    "            label=\"Gemini model ID\",\n",
    "            filterable=True,\n",
    "            multiselect=False,\n",
    "            allow_custom_value=False,\n",
    "        )\n",
    "    ],\n",
    "    outputs=[\n",
    "        gr.Audio(label=\"Podcast\"),\n",
    "    ],\n",
    ")\n",
    "demo.launch()"
   ]
  },
  {
   "cell_type": "code",
   "execution_count": null,
   "id": "4",
   "metadata": {},
   "outputs": [],
   "source": []
  }
 ],
 "metadata": {
  "kernelspec": {
   "display_name": ".venv",
   "language": "python",
   "name": "python3"
  },
  "language_info": {
   "codemirror_mode": {
    "name": "ipython",
    "version": 3
   },
   "file_extension": ".py",
   "mimetype": "text/x-python",
   "name": "python",
   "nbconvert_exporter": "python",
   "pygments_lexer": "ipython3",
   "version": "3.10.14"
  }
 },
 "nbformat": 4,
 "nbformat_minor": 5
}
