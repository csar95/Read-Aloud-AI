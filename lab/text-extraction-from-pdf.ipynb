{
 "cells": [
  {
   "cell_type": "markdown",
   "id": "0",
   "metadata": {},
   "source": [
    "# PDF text extraction\n",
    "\n",
    "**Description**: This notebook demonstrates how to extract text from a PDF file using the `PyPDFium2` library."
   ]
  },
  {
   "cell_type": "markdown",
   "id": "1",
   "metadata": {},
   "source": [
    "## Imports"
   ]
  },
  {
   "cell_type": "code",
   "execution_count": null,
   "id": "2",
   "metadata": {},
   "outputs": [],
   "source": [
    "import pypdfium2 as pdfium\n",
    "\n",
    "from src.pdf_reader.helpers import detect_header_footer"
   ]
  },
  {
   "cell_type": "markdown",
   "id": "3",
   "metadata": {},
   "source": [
    "## Load PDF document"
   ]
  },
  {
   "cell_type": "code",
   "execution_count": null,
   "id": "4",
   "metadata": {},
   "outputs": [],
   "source": [
    "pdf_path = \"data/pdf_docs/a-practical-guide-to-building-agents.pdf\""
   ]
  },
  {
   "cell_type": "code",
   "execution_count": null,
   "id": "5",
   "metadata": {},
   "outputs": [],
   "source": [
    "pdf = pdfium.PdfDocument(pdf_path)\n",
    "print(f\"Length of PDF: {len(pdf)} pages\")"
   ]
  },
  {
   "cell_type": "markdown",
   "id": "6",
   "metadata": {},
   "source": [
    "## Detect header and footer"
   ]
  },
  {
   "cell_type": "code",
   "execution_count": null,
   "id": "7",
   "metadata": {},
   "outputs": [],
   "source": [
    "header_footer_lines = detect_header_footer(document=pdf)\n",
    "list(header_footer_lines)[:5]"
   ]
  },
  {
   "cell_type": "markdown",
   "id": "8",
   "metadata": {},
   "source": [
    "## Extract text from document pages"
   ]
  },
  {
   "cell_type": "code",
   "execution_count": null,
   "id": "9",
   "metadata": {},
   "outputs": [],
   "source": [
    "text_per_page = dict()\n",
    "\n",
    "for page_id in range(len(pdf)):\n",
    "    print(\"---------------------------------------------\")\n",
    "    print(f\"Page {page_id + 1} of {len(pdf)}\")\n",
    "    # It seems that the package \"pypdfium2\" separates lines by \"\\r\\n\" by default\n",
    "    page_text = pdf[page_id].get_textpage().get_text_bounded()\n",
    "\n",
    "    # Split the text into lines removing the ones contained in the header and footer\n",
    "    page_lines = [\n",
    "        line\n",
    "        for line in page_text.splitlines()\n",
    "        if line.strip() not in header_footer_lines\n",
    "    ]\n",
    "\n",
    "    page_text_without_header_footer = \"\\n\".join(page_lines)\n",
    "    print(page_text_without_header_footer)\n",
    "\n",
    "    text_per_page[page_id] = page_text_without_header_footer"
   ]
  },
  {
   "cell_type": "code",
   "execution_count": null,
   "id": "10",
   "metadata": {},
   "outputs": [],
   "source": []
  }
 ],
 "metadata": {
  "kernelspec": {
   "display_name": "read-aloud-ai",
   "language": "python",
   "name": "python3"
  },
  "language_info": {
   "codemirror_mode": {
    "name": "ipython",
    "version": 3
   },
   "file_extension": ".py",
   "mimetype": "text/x-python",
   "name": "python",
   "nbconvert_exporter": "python",
   "pygments_lexer": "ipython3",
   "version": "3.11.11"
  }
 },
 "nbformat": 4,
 "nbformat_minor": 5
}
