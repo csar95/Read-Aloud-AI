{
 "cells": [
  {
   "cell_type": "markdown",
   "id": "0",
   "metadata": {},
   "source": [
    "# Playing with the Gemini API\n",
    "\n",
    "**Description**: This notebook demonstrates how to use the Gemini API with the OpenAI Python library."
   ]
  },
  {
   "cell_type": "markdown",
   "id": "1",
   "metadata": {},
   "source": [
    "## Imports"
   ]
  },
  {
   "cell_type": "code",
   "execution_count": null,
   "id": "2",
   "metadata": {},
   "outputs": [],
   "source": [
    "import os\n",
    "\n",
    "from openai import OpenAI\n",
    "import pymupdf\n",
    "import pypdfium2 as pdfium"
   ]
  },
  {
   "cell_type": "markdown",
   "id": "3",
   "metadata": {},
   "source": [
    "## Setup client"
   ]
  },
  {
   "cell_type": "code",
   "execution_count": null,
   "id": "4",
   "metadata": {},
   "outputs": [],
   "source": [
    "GEMINI_API_KEY = os.getenv(\"GEMINI_API_KEY\")\n",
    "model_id = \"gemini-2.5-pro-exp-03-25\"  # \"gemini-2.5-flash-preview-04-17\""
   ]
  },
  {
   "cell_type": "code",
   "execution_count": null,
   "id": "5",
   "metadata": {},
   "outputs": [],
   "source": [
    "client = OpenAI(\n",
    "    api_key=GEMINI_API_KEY,\n",
    "    base_url=\"https://generativelanguage.googleapis.com/v1beta/openai/\",\n",
    ")\n",
    "client.models.list().to_dict()"
   ]
  },
  {
   "cell_type": "markdown",
   "id": "6",
   "metadata": {},
   "source": [
    "## Load PDF document for testing\n",
    "\n",
    "We compare how both, the PyMupdf and PyPDF2 libraries, extract text from the same PDF document."
   ]
  },
  {
   "cell_type": "code",
   "execution_count": null,
   "id": "7",
   "metadata": {},
   "outputs": [],
   "source": [
    "pdf_path = \"data/pdf_docs/a-practical-guide-to-building-agents.pdf\""
   ]
  },
  {
   "cell_type": "code",
   "execution_count": null,
   "id": "8",
   "metadata": {},
   "outputs": [],
   "source": [
    "pdf1 = pymupdf.open(pdf_path)\n",
    "print(pdf1[3].get_text())"
   ]
  },
  {
   "cell_type": "code",
   "execution_count": null,
   "id": "9",
   "metadata": {},
   "outputs": [],
   "source": [
    "pdf2 = pdfium.PdfDocument(pdf_path)\n",
    "print(pdf2[3].get_textpage().get_text_bounded())"
   ]
  },
  {
   "cell_type": "code",
   "execution_count": null,
   "id": "10",
   "metadata": {},
   "outputs": [],
   "source": [
    "response = client.chat.completions.create(\n",
    "    model=model_id,\n",
    "    messages=[\n",
    "        {\n",
    "            \"role\": \"system\",\n",
    "            \"content\": \"\"\"You are DocFormatter, an AI assistant specialized in transforming raw, line-broken, code-style text extracted from PDFs into clean, human-readable, richly formatted documents. Always output valid Markdown, preserving the original content and logical structure. Follow these rules:\n",
    "\n",
    "1.Detect and format headings\n",
    "- Lines in ALL CAPS or surrounded by blank lines with no punctuation → convert to Markdown headings (#, ##, etc.) based on logical hierarchy.\n",
    "\n",
    "2. Reflow paragraphs\n",
    "- Remove hard line-breaks within sentences; merge wrapped lines into single paragraphs.\n",
    "- Preserve intentional blank lines between paragraphs.\n",
    "\n",
    "3. Restore lists\n",
    "- Lines beginning with bullets (-, *, •) or ordered markers (1., a)) → convert to Markdown lists.\n",
    "- Properly indent nested lists.\n",
    "\n",
    "4. Convert simple tables\n",
    "- Sequences of lines with consistent spacing → convert to Markdown tables.\n",
    "\n",
    "5. Handle footnotes & citations\n",
    "- Detect bracketed markers like [1] or (Smith et al., 2020) → preserve in-text and, if possible, collect into a “References” section at the end in proper Markdown list form.\n",
    "\n",
    "6. Clean hyphenation\n",
    "- Remove orphaned hyphens at line ends (exam-\\nple → example).\n",
    "\n",
    "7. Preserve special elements\n",
    "- Blockquotes (> …), code blocks (indented or fenced), images (URLs), and figures → retain or convert to Markdown equivalents.\n",
    "\n",
    "8. Maintain fidelity\n",
    "- Do not add or omit content; if something is ambiguous, preserve it verbatim and flag with a comment like <!-- Check formatting -->.\n",
    "\"\"\",\n",
    "        },\n",
    "        {\n",
    "            \"role\": \"user\",\n",
    "            \"content\": f\"\"\"Here is the raw text extracted from a PDF. Please reformat it into clean, readable Markdown, following the system instructions exactly:\n",
    "\n",
    "```\n",
    "{pdf2[3].get_textpage().get_text_bounded()}\n",
    "```\n",
    "\"\"\",\n",
    "        },\n",
    "    ],\n",
    ")\n",
    "\n",
    "print(response.choices[0].message.content)"
   ]
  },
  {
   "cell_type": "code",
   "execution_count": null,
   "id": "11",
   "metadata": {},
   "outputs": [],
   "source": []
  }
 ],
 "metadata": {
  "kernelspec": {
   "display_name": "read-aloud-ai",
   "language": "python",
   "name": "python3"
  },
  "language_info": {
   "codemirror_mode": {
    "name": "ipython",
    "version": 3
   },
   "file_extension": ".py",
   "mimetype": "text/x-python",
   "name": "python",
   "nbconvert_exporter": "python",
   "pygments_lexer": "ipython3",
   "version": "3.11.11"
  }
 },
 "nbformat": 4,
 "nbformat_minor": 5
}
