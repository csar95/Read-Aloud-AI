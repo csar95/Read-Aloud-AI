{
 "cells": [
  {
   "cell_type": "markdown",
   "id": "c49f561c",
   "metadata": {},
   "source": [
    "# Playing with the Gemini API\n",
    "\n",
    "**Description**: This notebook demonstrates how to use the Gemini API with the OpenAI Python library."
   ]
  },
  {
   "cell_type": "markdown",
   "id": "fd565b57",
   "metadata": {},
   "source": [
    "## Imports"
   ]
  },
  {
   "cell_type": "code",
   "execution_count": 1,
   "id": "915248ab",
   "metadata": {},
   "outputs": [],
   "source": [
    "import os\n",
    "\n",
    "from openai import OpenAI\n",
    "import pymupdf\n",
    "import pypdfium2 as pdfium"
   ]
  },
  {
   "cell_type": "markdown",
   "id": "3a66b112",
   "metadata": {},
   "source": [
    "## Setup client"
   ]
  },
  {
   "cell_type": "code",
   "execution_count": 2,
   "id": "cb27b514",
   "metadata": {},
   "outputs": [],
   "source": [
    "GEMINI_API_KEY = os.getenv(\"GEMINI_API_KEY\")\n",
    "model_id = \"gemini-2.5-pro-exp-03-25\"  # \"gemini-2.5-flash-preview-04-17\""
   ]
  },
  {
   "cell_type": "code",
   "execution_count": 3,
   "id": "a205bc91",
   "metadata": {},
   "outputs": [
    {
     "data": {
      "text/plain": [
       "{'data': [{'id': 'models/chat-bison-001',\n",
       "   'object': 'model',\n",
       "   'owned_by': 'google'},\n",
       "  {'id': 'models/text-bison-001', 'object': 'model', 'owned_by': 'google'},\n",
       "  {'id': 'models/embedding-gecko-001',\n",
       "   'object': 'model',\n",
       "   'owned_by': 'google'},\n",
       "  {'id': 'models/gemini-1.0-pro-vision-latest',\n",
       "   'object': 'model',\n",
       "   'owned_by': 'google'},\n",
       "  {'id': 'models/gemini-pro-vision', 'object': 'model', 'owned_by': 'google'},\n",
       "  {'id': 'models/gemini-1.5-pro-latest',\n",
       "   'object': 'model',\n",
       "   'owned_by': 'google'},\n",
       "  {'id': 'models/gemini-1.5-pro-001', 'object': 'model', 'owned_by': 'google'},\n",
       "  {'id': 'models/gemini-1.5-pro-002', 'object': 'model', 'owned_by': 'google'},\n",
       "  {'id': 'models/gemini-1.5-pro', 'object': 'model', 'owned_by': 'google'},\n",
       "  {'id': 'models/gemini-1.5-flash-latest',\n",
       "   'object': 'model',\n",
       "   'owned_by': 'google'},\n",
       "  {'id': 'models/gemini-1.5-flash-001',\n",
       "   'object': 'model',\n",
       "   'owned_by': 'google'},\n",
       "  {'id': 'models/gemini-1.5-flash-001-tuning',\n",
       "   'object': 'model',\n",
       "   'owned_by': 'google'},\n",
       "  {'id': 'models/gemini-1.5-flash', 'object': 'model', 'owned_by': 'google'},\n",
       "  {'id': 'models/gemini-1.5-flash-002',\n",
       "   'object': 'model',\n",
       "   'owned_by': 'google'},\n",
       "  {'id': 'models/gemini-1.5-flash-8b',\n",
       "   'object': 'model',\n",
       "   'owned_by': 'google'},\n",
       "  {'id': 'models/gemini-1.5-flash-8b-001',\n",
       "   'object': 'model',\n",
       "   'owned_by': 'google'},\n",
       "  {'id': 'models/gemini-1.5-flash-8b-latest',\n",
       "   'object': 'model',\n",
       "   'owned_by': 'google'},\n",
       "  {'id': 'models/gemini-1.5-flash-8b-exp-0827',\n",
       "   'object': 'model',\n",
       "   'owned_by': 'google'},\n",
       "  {'id': 'models/gemini-1.5-flash-8b-exp-0924',\n",
       "   'object': 'model',\n",
       "   'owned_by': 'google'},\n",
       "  {'id': 'models/gemini-2.5-pro-exp-03-25',\n",
       "   'object': 'model',\n",
       "   'owned_by': 'google'},\n",
       "  {'id': 'models/gemini-2.5-pro-preview-03-25',\n",
       "   'object': 'model',\n",
       "   'owned_by': 'google'},\n",
       "  {'id': 'models/gemini-2.5-flash-preview-04-17',\n",
       "   'object': 'model',\n",
       "   'owned_by': 'google'},\n",
       "  {'id': 'models/gemini-2.5-flash-preview-04-17-thinking',\n",
       "   'object': 'model',\n",
       "   'owned_by': 'google'},\n",
       "  {'id': 'models/gemini-2.5-pro-preview-05-06',\n",
       "   'object': 'model',\n",
       "   'owned_by': 'google'},\n",
       "  {'id': 'models/gemini-2.0-flash-exp',\n",
       "   'object': 'model',\n",
       "   'owned_by': 'google'},\n",
       "  {'id': 'models/gemini-2.0-flash', 'object': 'model', 'owned_by': 'google'},\n",
       "  {'id': 'models/gemini-2.0-flash-001',\n",
       "   'object': 'model',\n",
       "   'owned_by': 'google'},\n",
       "  {'id': 'models/gemini-2.0-flash-lite-001',\n",
       "   'object': 'model',\n",
       "   'owned_by': 'google'},\n",
       "  {'id': 'models/gemini-2.0-flash-lite',\n",
       "   'object': 'model',\n",
       "   'owned_by': 'google'},\n",
       "  {'id': 'models/gemini-2.0-flash-lite-preview-02-05',\n",
       "   'object': 'model',\n",
       "   'owned_by': 'google'},\n",
       "  {'id': 'models/gemini-2.0-flash-lite-preview',\n",
       "   'object': 'model',\n",
       "   'owned_by': 'google'},\n",
       "  {'id': 'models/gemini-2.0-pro-exp', 'object': 'model', 'owned_by': 'google'},\n",
       "  {'id': 'models/gemini-2.0-pro-exp-02-05',\n",
       "   'object': 'model',\n",
       "   'owned_by': 'google'},\n",
       "  {'id': 'models/gemini-exp-1206', 'object': 'model', 'owned_by': 'google'},\n",
       "  {'id': 'models/gemini-2.0-flash-thinking-exp-01-21',\n",
       "   'object': 'model',\n",
       "   'owned_by': 'google'},\n",
       "  {'id': 'models/gemini-2.0-flash-thinking-exp',\n",
       "   'object': 'model',\n",
       "   'owned_by': 'google'},\n",
       "  {'id': 'models/gemini-2.0-flash-thinking-exp-1219',\n",
       "   'object': 'model',\n",
       "   'owned_by': 'google'},\n",
       "  {'id': 'models/learnlm-1.5-pro-experimental',\n",
       "   'object': 'model',\n",
       "   'owned_by': 'google'},\n",
       "  {'id': 'models/learnlm-2.0-flash-experimental',\n",
       "   'object': 'model',\n",
       "   'owned_by': 'google'},\n",
       "  {'id': 'models/gemma-3-1b-it', 'object': 'model', 'owned_by': 'google'},\n",
       "  {'id': 'models/gemma-3-4b-it', 'object': 'model', 'owned_by': 'google'},\n",
       "  {'id': 'models/gemma-3-12b-it', 'object': 'model', 'owned_by': 'google'},\n",
       "  {'id': 'models/gemma-3-27b-it', 'object': 'model', 'owned_by': 'google'},\n",
       "  {'id': 'models/embedding-001', 'object': 'model', 'owned_by': 'google'},\n",
       "  {'id': 'models/text-embedding-004', 'object': 'model', 'owned_by': 'google'},\n",
       "  {'id': 'models/gemini-embedding-exp-03-07',\n",
       "   'object': 'model',\n",
       "   'owned_by': 'google'},\n",
       "  {'id': 'models/gemini-embedding-exp',\n",
       "   'object': 'model',\n",
       "   'owned_by': 'google'},\n",
       "  {'id': 'models/aqa', 'object': 'model', 'owned_by': 'google'},\n",
       "  {'id': 'models/imagen-3.0-generate-002',\n",
       "   'object': 'model',\n",
       "   'owned_by': 'google'},\n",
       "  {'id': 'models/gemini-2.0-flash-live-001',\n",
       "   'object': 'model',\n",
       "   'owned_by': 'google'}],\n",
       " 'object': 'list'}"
      ]
     },
     "execution_count": 3,
     "metadata": {},
     "output_type": "execute_result"
    }
   ],
   "source": [
    "client = OpenAI(\n",
    "    api_key=GEMINI_API_KEY,\n",
    "    base_url=\"https://generativelanguage.googleapis.com/v1beta/openai/\"\n",
    ")\n",
    "client.models.list().to_dict()"
   ]
  },
  {
   "cell_type": "markdown",
   "id": "9639f3b0",
   "metadata": {},
   "source": [
    "## Load PDF document for testing\n",
    "\n",
    "We compare how both, the PyMupdf and PyPDF2 libraries, extract text from the same PDF document."
   ]
  },
  {
   "cell_type": "code",
   "execution_count": 4,
   "id": "c2dc4636",
   "metadata": {},
   "outputs": [],
   "source": [
    "pdf_path = \"data/pdf_docs/a-practical-guide-to-building-agents.pdf\""
   ]
  },
  {
   "cell_type": "code",
   "execution_count": 5,
   "id": "7d92d593",
   "metadata": {},
   "outputs": [
    {
     "name": "stdout",
     "output_type": "stream",
     "text": [
      "What is an \n",
      "agent?\n",
      "While conventional software enables users to streamline and automate workflows, agents are able \n",
      "to perform the same workflows on the users’ behalf with a high degree of independence.\n",
      "Agents are systems that independently accomplish tasks on your behalf.\n",
      "A workflow is a sequence of steps that must be executed to meet the user’s goal, whether that's \n",
      "resolving a customer service issue, booking a restaurant reservation, committing a code change,  \n",
      "or generating a report.\n",
      "Applications that integrate LLMs but don’t use them to control workflow execution—think simple \n",
      "chatbots, single-turn LLMs, or sentiment classifiers—are not agents.\n",
      "More concretely, an agent possesses core characteristics that allow it to act reliably and \n",
      "consistently on behalf of a user:\n",
      "01\n",
      "It leverages an LLM to manage workflow execution and make decisions. It recognizes \n",
      "when a workflow is complete and can proactively correct its actions if needed. In case  \n",
      "of failure, it can halt execution and transfer control back to the user.\n",
      "02\n",
      "It has access to various tools to interact with external systems—both to gather context \n",
      "and to take actions—and dynamically selects the appropriate tools depending on the \n",
      "workflow’s current state, always operating within clearly defined guardrails.\n",
      "4\n",
      "A practical guide to building agents\n",
      "\n"
     ]
    }
   ],
   "source": [
    "pdf1 = pymupdf.open(pdf_path)\n",
    "print(pdf1[3].get_text())"
   ]
  },
  {
   "cell_type": "code",
   "execution_count": 6,
   "id": "775ec9af",
   "metadata": {},
   "outputs": [
    {
     "name": "stdout",
     "output_type": "stream",
     "text": [
      "What is an \n",
      "agent?\n",
      "While conventional software enables users to streamline and automate workflows, agents are able \n",
      "to perform the same workflows on the users’ behalf with a high degree of independence.\n",
      "Agents are systems that independently accomplish tasks on your behalf.\n",
      "A workflow is a sequence of steps that must be executed to meet the user’s goal, whether that's \n",
      "resolving a customer service issue, booking a restaurant reservation, committing a code change,  \n",
      "or generating a report.\n",
      "\n",
      "Applications that integrate LLMs but don’t use them to control workflow execution—think simple \n",
      "chatbots, single-turn LLMs, or sentiment classifiers—are not agents.\n",
      "\n",
      "More concretely, an agent possesses core characteristics that allow it to act reliably and \n",
      "consistently on behalf of a user:\n",
      "01 It leverages an LLM to manage workflow execution and make decisions. It recognizes \n",
      "when a workflow is complete and can proactively correct its actions if needed. In case  \n",
      "of failure, it can halt execution and transfer control back to the user.\n",
      "02 It has access to various tools to interact with external systems—both to gather context \n",
      "and to take actions—and dynamically selects the appropriate tools depending on the \n",
      "workflow’s current state, always operating within clearly defined guardrails.\n",
      "4 A practical guide to building agents\n"
     ]
    },
    {
     "name": "stderr",
     "output_type": "stream",
     "text": [
      "/Users/csr95/anaconda3/envs/read-aloud-ai/lib/python3.11/site-packages/pypdfium2/_helpers/textpage.py:80: UserWarning: get_text_range() call with default params will be implicitly redirected to get_text_bounded()\n",
      "  warnings.warn(\"get_text_range() call with default params will be implicitly redirected to get_text_bounded()\")\n"
     ]
    }
   ],
   "source": [
    "pdf2 = pdfium.PdfDocument(pdf_path)\n",
    "print(pdf2[3].get_textpage().get_text_range())"
   ]
  },
  {
   "cell_type": "code",
   "execution_count": 7,
   "id": "c87d97d2",
   "metadata": {},
   "outputs": [
    {
     "name": "stdout",
     "output_type": "stream",
     "text": [
      "```markdown\n",
      "## What is an agent?\n",
      "\n",
      "While conventional software enables users to streamline and automate workflows, agents are able to perform the same workflows on the users’ behalf with a high degree of independence.\n",
      "\n",
      "Agents are systems that independently accomplish tasks on your behalf.\n",
      "\n",
      "A workflow is a sequence of steps that must be executed to meet the user’s goal, whether that's resolving a customer service issue, booking a restaurant reservation, committing a code change, or generating a report.\n",
      "\n",
      "Applications that integrate LLMs but don’t use them to control workflow execution—think simple chatbots, single-turn LLMs, or sentiment classifiers—are not agents.\n",
      "\n",
      "More concretely, an agent possesses core characteristics that allow it to act reliably and consistently on behalf of a user:\n",
      "\n",
      "1.  It leverages an LLM to manage workflow execution and make decisions. It recognizes when a workflow is complete and can proactively correct its actions if needed. In case of failure, it can halt execution and transfer control back to the user.\n",
      "2.  It has access to various tools to interact with external systems—both to gather context and to take actions—and dynamically selects the appropriate tools depending on the workflow’s current state, always operating within clearly defined guardrails.\n",
      "\n",
      "4 A practical guide to building agents\n",
      "```\n"
     ]
    }
   ],
   "source": [
    "response = client.chat.completions.create(\n",
    "    model=model_id,\n",
    "    messages=[\n",
    "        {\n",
    "            \"role\": \"system\", \n",
    "            \"content\": \"\"\"You are DocFormatter, an AI assistant specialized in transforming raw, line-broken, code-style text extracted from PDFs into clean, human-readable, richly formatted documents. Always output valid Markdown, preserving the original content and logical structure. Follow these rules:\n",
    "\n",
    "1.Detect and format headings\n",
    "- Lines in ALL CAPS or surrounded by blank lines with no punctuation → convert to Markdown headings (#, ##, etc.) based on logical hierarchy.\n",
    "\n",
    "2. Reflow paragraphs\n",
    "- Remove hard line-breaks within sentences; merge wrapped lines into single paragraphs.\n",
    "- Preserve intentional blank lines between paragraphs.\n",
    "\n",
    "3. Restore lists\n",
    "- Lines beginning with bullets (-, *, •) or ordered markers (1., a)) → convert to Markdown lists.\n",
    "- Properly indent nested lists.\n",
    "\n",
    "4. Convert simple tables\n",
    "- Sequences of lines with consistent spacing → convert to Markdown tables.\n",
    "\n",
    "5. Handle footnotes & citations\n",
    "- Detect bracketed markers like [1] or (Smith et al., 2020) → preserve in-text and, if possible, collect into a “References” section at the end in proper Markdown list form.\n",
    "\n",
    "6. Clean hyphenation\n",
    "- Remove orphaned hyphens at line ends (exam-\\nple → example).\n",
    "\n",
    "7. Preserve special elements\n",
    "- Blockquotes (> …), code blocks (indented or fenced), images (URLs), and figures → retain or convert to Markdown equivalents.\n",
    "\n",
    "8. Maintain fidelity\n",
    "- Do not add or omit content; if something is ambiguous, preserve it verbatim and flag with a comment like <!-- Check formatting -->.\n",
    "\"\"\"},\n",
    "        {\n",
    "            \"role\": \"user\",\n",
    "            \"content\": f\"\"\"Here is the raw text extracted from a PDF. Please reformat it into clean, readable Markdown, following the system instructions exactly:\n",
    "\n",
    "```\n",
    "{pdf2[3].get_textpage().get_text_range()}\n",
    "```\n",
    "\"\"\"\n",
    "        }\n",
    "    ]\n",
    ")\n",
    "\n",
    "print(response.choices[0].message.content)"
   ]
  },
  {
   "cell_type": "code",
   "execution_count": null,
   "id": "ffcfca7b",
   "metadata": {},
   "outputs": [],
   "source": []
  }
 ],
 "metadata": {
  "kernelspec": {
   "display_name": "read-aloud-ai",
   "language": "python",
   "name": "python3"
  },
  "language_info": {
   "codemirror_mode": {
    "name": "ipython",
    "version": 3
   },
   "file_extension": ".py",
   "mimetype": "text/x-python",
   "name": "python",
   "nbconvert_exporter": "python",
   "pygments_lexer": "ipython3",
   "version": "3.11.11"
  }
 },
 "nbformat": 4,
 "nbformat_minor": 5
}
